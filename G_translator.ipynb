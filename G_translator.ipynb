{
  "nbformat": 4,
  "nbformat_minor": 0,
  "metadata": {
    "colab": {
      "name": "G translator.ipynb",
      "provenance": [],
      "collapsed_sections": []
    },
    "kernelspec": {
      "name": "python3",
      "display_name": "Python 3"
    }
  },
  "cells": [
    {
      "cell_type": "markdown",
      "metadata": {
        "id": "XLJTggFLxL_y",
        "colab_type": "text"
      },
      "source": [
        "\n",
        "\n",
        "*G- Translator*\n",
        "\n"
      ]
    },
    {
      "cell_type": "code",
      "metadata": {
        "id": "uKxg8redJSQF",
        "colab_type": "code",
        "colab": {
          "base_uri": "https://localhost:8080/",
          "height": 51
        },
        "outputId": "2e7746fb-6169-4d67-bfd3-5402695a855c"
      },
      "source": [
        "def translator(phrase):\n",
        "  translation = \"\"\n",
        "  for letter in phrase:\n",
        "    if letter.lower() in \"aeiou\":\n",
        "      if letter.isupper():\n",
        "        translation = translation + \"G\"\n",
        "      else:\n",
        "        translation = translation + \"g\"\n",
        "    else:\n",
        "      translation = translation + letter  \n",
        "  return translation\n",
        "print(translator(input(\"Enter a phrase to translate: \"))) \n",
        "\n"
      ],
      "execution_count": 5,
      "outputs": [
        {
          "output_type": "stream",
          "text": [
            "Enter a phrase to translate: This TRANSLATOR is lit.\n",
            "Thgs TRGNSLGTGR gs lgt.\n"
          ],
          "name": "stdout"
        }
      ]
    }
  ]
}